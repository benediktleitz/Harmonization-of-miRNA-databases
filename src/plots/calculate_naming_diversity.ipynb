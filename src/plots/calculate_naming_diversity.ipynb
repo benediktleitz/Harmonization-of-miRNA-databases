{
 "cells": [
  {
   "cell_type": "code",
   "execution_count": 25,
   "id": "347a8dc5",
   "metadata": {},
   "outputs": [],
   "source": [
    "import pandas as pd\n",
    "from collections import Counter"
   ]
  },
  {
   "cell_type": "code",
   "execution_count": 2,
   "id": "c875eff3",
   "metadata": {},
   "outputs": [],
   "source": [
    "mirna_sequence_records_path = \"/home/l/leitzb/miRNA/Harmonization-of-miRNA-databases/output/mirna_sequence_records.csv\"\n",
    "\n",
    "data_df = pd.read_csv(mirna_sequence_records_path, dtype={\"source_db_version\": str, \"taxon_id\": str})"
   ]
  },
  {
   "cell_type": "code",
   "execution_count": 12,
   "id": "ca5f9813",
   "metadata": {},
   "outputs": [],
   "source": [
    "# Calculate naming diversity\n",
    "grouped = data_df.groupby('miRNA_id')\n",
    "conflicting_names = grouped.filter(lambda g: g[\"name\"].nunique() > 1).reset_index(drop=True)"
   ]
  },
  {
   "cell_type": "code",
   "execution_count": null,
   "id": "0104667f",
   "metadata": {},
   "outputs": [],
   "source": [
    "summary = (conflicting_names.groupby(\"miRNA_id\")\n",
    "           .agg({\n",
    "               \"name\": lambda x: \";\".join(list(x.dropna())),\n",
    "               \"taxon_id\": lambda x: \";\".join(list(x.dropna())),\n",
    "               \"source_db\": lambda x: \";\".join(list(x.dropna()))\n",
    "           })\n",
    "           .reset_index()\n",
    "          )\n"
   ]
  },
  {
   "cell_type": "code",
   "execution_count": null,
   "id": "da15812d",
   "metadata": {},
   "outputs": [],
   "source": [
    "summary.to_csv(\"/home/l/leitzb/miRNA/Harmonization-of-miRNA-databases/output/naming_diversity_summary.csv\", index=False)"
   ]
  }
 ],
 "metadata": {
  "kernelspec": {
   "display_name": "Python 3",
   "language": "python",
   "name": "python3"
  },
  "language_info": {
   "codemirror_mode": {
    "name": "ipython",
    "version": 3
   },
   "file_extension": ".py",
   "mimetype": "text/x-python",
   "name": "python",
   "nbconvert_exporter": "python",
   "pygments_lexer": "ipython3",
   "version": "3.12.11"
  }
 },
 "nbformat": 4,
 "nbformat_minor": 5
}
